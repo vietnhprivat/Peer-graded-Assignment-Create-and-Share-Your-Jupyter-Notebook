{
  "metadata": {
    "kernelspec": {
      "name": "python",
      "display_name": "Pyolite",
      "language": "python"
    },
    "language_info": {
      "codemirror_mode": {
        "name": "python",
        "version": 3
      },
      "file_extension": ".py",
      "mimetype": "text/x-python",
      "name": "python",
      "nbconvert_exporter": "python",
      "pygments_lexer": "ipython3",
      "version": "3.8"
    }
  },
  "nbformat_minor": 4,
  "nbformat": 4,
  "cells": [
    {
      "cell_type": "markdown",
      "source": "<center>\n    <img src=\"https://cf-courses-data.s3.us.cloud-object-storage.appdomain.cloud/IBMDeveloperSkillsNetwork-DS0105EN-SkillsNetwork/labs/Module2/images/SN_web_lightmode.png\" width=\"300\" alt=\"cognitiveclass.ai logo\">\n</center>\n",
      "metadata": {}
    },
    {
      "cell_type": "markdown",
      "source": "#### Add your code below following the instructions given in the course\n",
      "metadata": {}
    },
    {
      "cell_type": "markdown",
      "source": "# My Jupyter Notebook on IBM Watson Studio",
      "metadata": {}
    },
    {
      "cell_type": "markdown",
      "source": "**Viet Nguyen** ",
      "metadata": {}
    },
    {
      "cell_type": "markdown",
      "source": "Student",
      "metadata": {}
    },
    {
      "cell_type": "markdown",
      "source": "**_I want to become a data scientist because i think they do an amazing job for the world and I want to contribute to that_**",
      "metadata": {}
    },
    {
      "cell_type": "markdown",
      "source": "### My code will add to variebles together",
      "metadata": {}
    },
    {
      "cell_type": "code",
      "source": "x = 1\ny = 2\n\nprint(x + y)",
      "metadata": {
        "trusted": true
      },
      "execution_count": 2,
      "outputs": [
        {
          "name": "stdout",
          "text": "3\n",
          "output_type": "stream"
        }
      ]
    },
    {
      "cell_type": "markdown",
      "source": "* burger\n* pizza\n* chicken\n* cheese cake\n* shawama",
      "metadata": {}
    },
    {
      "cell_type": "markdown",
      "source": "A [link](https://www.google.com/search?q=mcdonalds&oq=mcdon&aqs=chrome.0.0i355i433i512j46i199i433i465i512j69i57j0i433i512l2j0i10i433j0i131i433i512j0i512l2j46i175i199i512.1137j0j7&sourceid=chrome&ie=UTF-8).",
      "metadata": {}
    },
    {
      "cell_type": "markdown",
      "source": "| 1 | 2 | 3 |\n| ------ | ------ | ------ |\n| i | am | awesome |\n| ------ | ------ | ------ |\n| cell | cell | cell |\n| ------ | ------ | ------ |\n| cell | cell | cell |",
      "metadata": {}
    },
    {
      "cell_type": "code",
      "source": "",
      "metadata": {},
      "execution_count": null,
      "outputs": []
    }
  ]
}